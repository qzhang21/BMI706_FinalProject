{
 "cells": [
  {
   "cell_type": "code",
   "execution_count": 1,
   "metadata": {},
   "outputs": [
    {
     "name": "stdout",
     "output_type": "stream",
     "text": [
      "           Id ActivityDay  Calories\n",
      "0  1503960366   4/12/2016      1985\n",
      "1  1503960366   4/13/2016      1797\n",
      "2  1503960366   4/14/2016      1776\n",
      "3  1503960366   4/15/2016      1745\n",
      "4  1503960366   4/16/2016      1863\n",
      "           Id ActivityDay  StepTotal\n",
      "0  1503960366   4/12/2016      13162\n",
      "1  1503960366   4/13/2016      10735\n",
      "2  1503960366   4/14/2016      10460\n",
      "3  1503960366   4/15/2016       9762\n",
      "4  1503960366   4/16/2016      12669\n"
     ]
    }
   ],
   "source": [
    "import pandas as pd\n",
    "import numpy as np\n",
    "import streamlit as st\n",
    "import altair as alt\n",
    "\n",
    "# read in csv\n",
    "daily_calories = pd.read_csv(\"https://raw.githubusercontent.com/qzhang21/BMI706_FinalProject/main/dailyCalories_merged.csv\")\n",
    "daily_steps = pd.read_csv(\"https://raw.githubusercontent.com/qzhang21/BMI706_FinalProject/main/dailySteps_merged.csv\")\n",
    "\n",
    "print(daily_calories.head())\n",
    "print(daily_steps.head())"
   ]
  },
  {
   "cell_type": "code",
   "execution_count": null,
   "metadata": {},
   "outputs": [],
   "source": [
    "df_c = daily_calories.copy()\n",
    "df_s = daily_steps.copy()\n",
    "df_c[\"ActivityDay\"] = pd.to_datetime(df_c[\"ActivityDay\"])\n",
    "df_s[\"ActivityDay\"] = pd.to_datetime(df_s[\"ActivityDay\"])\n",
    "df_c.head()\n",
    "\n",
    "start_dates = {}\n",
    "for id, frame in df_c.sort_values(by=\"ActivityDay\").groupby(\"Id\"):\n",
    "    start_dates[id] = frame.iloc[0][\"ActivityDay\"]\n",
    "\n",
    "df_c[\"lapse\"] = [(row[\"ActivityDay\"] - start_dates[row[\"Id\"]]).days  for i, row in df_c.iterrows()]\n",
    "df_c.head()\n",
    "\n",
    "for id, frame in df_c.sort_values(by=\"ActivityDay\").groupby(\"Id\"):\n",
    "    print(f\"For {id}\")\n",
    "    print(\"------------------------\")\n",
    "    print(frame.head(5), end=\"\\n\\n\")\n",
    "\n",
    "chart = alt.Chart(df_c).mark_line().encode(\n",
    "    x=alt.X(\"lapse\"),\n",
    "    y=alt.Y(\"Calories\"),\n",
    "    color=alt.Color(\"Id\", type=\"nominal\"),\n",
    "    tooltip=[\"lapse\", \"Calories\" ],\n",
    ").properties(\n",
    "    title=\"hi\",\n",
    ")\n",
    "\n",
    "chart"
   ]
  }
 ],
 "metadata": {
  "interpreter": {
   "hash": "4e95e368fc8f95513e56dd203dd581d3630ee03bd78a7274de4c0dd1bd68d03e"
  },
  "kernelspec": {
   "display_name": "Python 3.9.7",
   "language": "python",
   "name": "python3"
  },
  "language_info": {
   "codemirror_mode": {
    "name": "ipython",
    "version": 3
   },
   "file_extension": ".py",
   "mimetype": "text/x-python",
   "name": "python",
   "nbconvert_exporter": "python",
   "pygments_lexer": "ipython3",
   "version": "3.9.7"
  },
  "orig_nbformat": 4
 },
 "nbformat": 4,
 "nbformat_minor": 2
}
